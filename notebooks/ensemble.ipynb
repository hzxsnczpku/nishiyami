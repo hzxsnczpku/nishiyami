{
 "cells": [
  {
   "cell_type": "code",
   "execution_count": 2,
   "metadata": {
    "_cell_guid": "28a96b13-fb54-43af-aeb9-ccb40526ec1f",
    "_uuid": "518b490c58f98a59d25d8d5d8c39dca0673564e1",
    "collapsed": true
   },
   "outputs": [],
   "source": [
    "import os\n",
    "import numpy as np \n",
    "import pandas as pd "
   ]
  },
  {
   "cell_type": "markdown",
   "metadata": {
    "_cell_guid": "1840df41-7524-4305-93d9-423a2a6fe5bd",
    "_uuid": "aae1d396e2fad44a15fcb8e970c5affa8fb6ddc6"
   },
   "source": [
    "# Data Load"
   ]
  },
  {
   "cell_type": "code",
   "execution_count": 3,
   "metadata": {
    "_cell_guid": "c978c838-8a87-45ef-a118-b6bd565bdb2e",
    "_uuid": "1fa9dd2434873dc5bc918b102a3a69649d0f35c7"
   },
   "outputs": [
    {
     "data": {
      "text/html": [
       "<div>\n",
       "<style scoped>\n",
       "    .dataframe tbody tr th:only-of-type {\n",
       "        vertical-align: middle;\n",
       "    }\n",
       "\n",
       "    .dataframe tbody tr th {\n",
       "        vertical-align: top;\n",
       "    }\n",
       "\n",
       "    .dataframe thead th {\n",
       "        text-align: right;\n",
       "    }\n",
       "</style>\n",
       "<table border=\"1\" class=\"dataframe\">\n",
       "  <thead>\n",
       "    <tr style=\"text-align: right;\">\n",
       "      <th></th>\n",
       "      <th>id</th>\n",
       "      <th>is_iceberg_0</th>\n",
       "      <th>is_iceberg_1</th>\n",
       "      <th>is_iceberg_2</th>\n",
       "      <th>is_iceberg_3</th>\n",
       "      <th>is_iceberg_4</th>\n",
       "      <th>is_iceberg_5</th>\n",
       "      <th>is_iceberg_6</th>\n",
       "      <th>is_iceberg_7</th>\n",
       "      <th>is_iceberg_8</th>\n",
       "      <th>is_iceberg_9</th>\n",
       "    </tr>\n",
       "  </thead>\n",
       "  <tbody>\n",
       "    <tr>\n",
       "      <th>0</th>\n",
       "      <td>5941774d</td>\n",
       "      <td>0.013974</td>\n",
       "      <td>0.005586</td>\n",
       "      <td>0.088246</td>\n",
       "      <td>0.047800</td>\n",
       "      <td>0.022661</td>\n",
       "      <td>0.030726</td>\n",
       "      <td>0.048098</td>\n",
       "      <td>0.002674</td>\n",
       "      <td>0.022661</td>\n",
       "      <td>1.943216e-02</td>\n",
       "    </tr>\n",
       "    <tr>\n",
       "      <th>1</th>\n",
       "      <td>4023181e</td>\n",
       "      <td>0.435513</td>\n",
       "      <td>0.145927</td>\n",
       "      <td>0.604716</td>\n",
       "      <td>0.346582</td>\n",
       "      <td>0.281293</td>\n",
       "      <td>0.441007</td>\n",
       "      <td>0.448249</td>\n",
       "      <td>0.125127</td>\n",
       "      <td>0.281293</td>\n",
       "      <td>3.168809e-02</td>\n",
       "    </tr>\n",
       "    <tr>\n",
       "      <th>2</th>\n",
       "      <td>b20200e4</td>\n",
       "      <td>0.001904</td>\n",
       "      <td>0.000015</td>\n",
       "      <td>0.009394</td>\n",
       "      <td>0.001091</td>\n",
       "      <td>0.065910</td>\n",
       "      <td>0.000311</td>\n",
       "      <td>0.057416</td>\n",
       "      <td>0.000098</td>\n",
       "      <td>0.065910</td>\n",
       "      <td>4.000000e-08</td>\n",
       "    </tr>\n",
       "    <tr>\n",
       "      <th>3</th>\n",
       "      <td>e7f018bb</td>\n",
       "      <td>0.999721</td>\n",
       "      <td>0.999914</td>\n",
       "      <td>0.998628</td>\n",
       "      <td>0.998541</td>\n",
       "      <td>0.995712</td>\n",
       "      <td>0.999250</td>\n",
       "      <td>0.997460</td>\n",
       "      <td>0.987586</td>\n",
       "      <td>0.995712</td>\n",
       "      <td>9.925741e-01</td>\n",
       "    </tr>\n",
       "    <tr>\n",
       "      <th>4</th>\n",
       "      <td>4371c8c3</td>\n",
       "      <td>0.024783</td>\n",
       "      <td>0.033843</td>\n",
       "      <td>0.033681</td>\n",
       "      <td>0.009229</td>\n",
       "      <td>0.042113</td>\n",
       "      <td>0.024562</td>\n",
       "      <td>0.010555</td>\n",
       "      <td>0.026264</td>\n",
       "      <td>0.042113</td>\n",
       "      <td>2.215107e-02</td>\n",
       "    </tr>\n",
       "  </tbody>\n",
       "</table>\n",
       "</div>"
      ],
      "text/plain": [
       "         id  is_iceberg_0  is_iceberg_1  is_iceberg_2  is_iceberg_3  \\\n",
       "0  5941774d      0.013974      0.005586      0.088246      0.047800   \n",
       "1  4023181e      0.435513      0.145927      0.604716      0.346582   \n",
       "2  b20200e4      0.001904      0.000015      0.009394      0.001091   \n",
       "3  e7f018bb      0.999721      0.999914      0.998628      0.998541   \n",
       "4  4371c8c3      0.024783      0.033843      0.033681      0.009229   \n",
       "\n",
       "   is_iceberg_4  is_iceberg_5  is_iceberg_6  is_iceberg_7  is_iceberg_8  \\\n",
       "0      0.022661      0.030726      0.048098      0.002674      0.022661   \n",
       "1      0.281293      0.441007      0.448249      0.125127      0.281293   \n",
       "2      0.065910      0.000311      0.057416      0.000098      0.065910   \n",
       "3      0.995712      0.999250      0.997460      0.987586      0.995712   \n",
       "4      0.042113      0.024562      0.010555      0.026264      0.042113   \n",
       "\n",
       "   is_iceberg_9  \n",
       "0  1.943216e-02  \n",
       "1  3.168809e-02  \n",
       "2  4.000000e-08  \n",
       "3  9.925741e-01  \n",
       "4  2.215107e-02  "
      ]
     },
     "execution_count": 3,
     "metadata": {},
     "output_type": "execute_result"
    }
   ],
   "source": [
    "sub_path = \"./statoil-iceberg-submissions\"\n",
    "all_files = os.listdir(sub_path)\n",
    "\n",
    "# Read and concatenate submissions\n",
    "outs = [pd.read_csv(os.path.join(sub_path, f), index_col=0) for f in all_files]\n",
    "concat_sub = pd.concat(outs, axis=1)\n",
    "cols = list(map(lambda x: \"is_iceberg_\" + str(x), range(len(concat_sub.columns))))\n",
    "concat_sub.columns = cols\n",
    "concat_sub.reset_index(inplace=True)\n",
    "concat_sub.head()\n"
   ]
  },
  {
   "cell_type": "code",
   "execution_count": 4,
   "metadata": {
    "_cell_guid": "a193cac9-e544-4749-8622-2c0a7d882193",
    "_uuid": "37b39229e34b71032d8d2371c6b731ed452b8eb2"
   },
   "outputs": [
    {
     "data": {
      "text/html": [
       "<div>\n",
       "<style scoped>\n",
       "    .dataframe tbody tr th:only-of-type {\n",
       "        vertical-align: middle;\n",
       "    }\n",
       "\n",
       "    .dataframe tbody tr th {\n",
       "        vertical-align: top;\n",
       "    }\n",
       "\n",
       "    .dataframe thead th {\n",
       "        text-align: right;\n",
       "    }\n",
       "</style>\n",
       "<table border=\"1\" class=\"dataframe\">\n",
       "  <thead>\n",
       "    <tr style=\"text-align: right;\">\n",
       "      <th></th>\n",
       "      <th>is_iceberg_0</th>\n",
       "      <th>is_iceberg_1</th>\n",
       "      <th>is_iceberg_2</th>\n",
       "      <th>is_iceberg_3</th>\n",
       "      <th>is_iceberg_4</th>\n",
       "      <th>is_iceberg_5</th>\n",
       "      <th>is_iceberg_6</th>\n",
       "      <th>is_iceberg_7</th>\n",
       "      <th>is_iceberg_8</th>\n",
       "      <th>is_iceberg_9</th>\n",
       "    </tr>\n",
       "  </thead>\n",
       "  <tbody>\n",
       "    <tr>\n",
       "      <th>is_iceberg_0</th>\n",
       "      <td>1.000000</td>\n",
       "      <td>0.872093</td>\n",
       "      <td>0.964119</td>\n",
       "      <td>0.965293</td>\n",
       "      <td>0.942633</td>\n",
       "      <td>0.976467</td>\n",
       "      <td>0.976215</td>\n",
       "      <td>0.909198</td>\n",
       "      <td>0.942633</td>\n",
       "      <td>0.862926</td>\n",
       "    </tr>\n",
       "    <tr>\n",
       "      <th>is_iceberg_1</th>\n",
       "      <td>0.872093</td>\n",
       "      <td>1.000000</td>\n",
       "      <td>0.892673</td>\n",
       "      <td>0.892067</td>\n",
       "      <td>0.914140</td>\n",
       "      <td>0.884691</td>\n",
       "      <td>0.875416</td>\n",
       "      <td>0.914032</td>\n",
       "      <td>0.914140</td>\n",
       "      <td>0.890434</td>\n",
       "    </tr>\n",
       "    <tr>\n",
       "      <th>is_iceberg_2</th>\n",
       "      <td>0.964119</td>\n",
       "      <td>0.892673</td>\n",
       "      <td>1.000000</td>\n",
       "      <td>0.975933</td>\n",
       "      <td>0.956652</td>\n",
       "      <td>0.977570</td>\n",
       "      <td>0.967446</td>\n",
       "      <td>0.934716</td>\n",
       "      <td>0.956652</td>\n",
       "      <td>0.902715</td>\n",
       "    </tr>\n",
       "    <tr>\n",
       "      <th>is_iceberg_3</th>\n",
       "      <td>0.965293</td>\n",
       "      <td>0.892067</td>\n",
       "      <td>0.975933</td>\n",
       "      <td>1.000000</td>\n",
       "      <td>0.963686</td>\n",
       "      <td>0.987501</td>\n",
       "      <td>0.957484</td>\n",
       "      <td>0.930742</td>\n",
       "      <td>0.963686</td>\n",
       "      <td>0.905973</td>\n",
       "    </tr>\n",
       "    <tr>\n",
       "      <th>is_iceberg_4</th>\n",
       "      <td>0.942633</td>\n",
       "      <td>0.914140</td>\n",
       "      <td>0.956652</td>\n",
       "      <td>0.963686</td>\n",
       "      <td>1.000000</td>\n",
       "      <td>0.959968</td>\n",
       "      <td>0.936378</td>\n",
       "      <td>0.941965</td>\n",
       "      <td>1.000000</td>\n",
       "      <td>0.951330</td>\n",
       "    </tr>\n",
       "    <tr>\n",
       "      <th>is_iceberg_5</th>\n",
       "      <td>0.976467</td>\n",
       "      <td>0.884691</td>\n",
       "      <td>0.977570</td>\n",
       "      <td>0.987501</td>\n",
       "      <td>0.959968</td>\n",
       "      <td>1.000000</td>\n",
       "      <td>0.960945</td>\n",
       "      <td>0.919837</td>\n",
       "      <td>0.959968</td>\n",
       "      <td>0.892922</td>\n",
       "    </tr>\n",
       "    <tr>\n",
       "      <th>is_iceberg_6</th>\n",
       "      <td>0.976215</td>\n",
       "      <td>0.875416</td>\n",
       "      <td>0.967446</td>\n",
       "      <td>0.957484</td>\n",
       "      <td>0.936378</td>\n",
       "      <td>0.960945</td>\n",
       "      <td>1.000000</td>\n",
       "      <td>0.919900</td>\n",
       "      <td>0.936378</td>\n",
       "      <td>0.871502</td>\n",
       "    </tr>\n",
       "    <tr>\n",
       "      <th>is_iceberg_7</th>\n",
       "      <td>0.909198</td>\n",
       "      <td>0.914032</td>\n",
       "      <td>0.934716</td>\n",
       "      <td>0.930742</td>\n",
       "      <td>0.941965</td>\n",
       "      <td>0.919837</td>\n",
       "      <td>0.919900</td>\n",
       "      <td>1.000000</td>\n",
       "      <td>0.941965</td>\n",
       "      <td>0.936248</td>\n",
       "    </tr>\n",
       "    <tr>\n",
       "      <th>is_iceberg_8</th>\n",
       "      <td>0.942633</td>\n",
       "      <td>0.914140</td>\n",
       "      <td>0.956652</td>\n",
       "      <td>0.963686</td>\n",
       "      <td>1.000000</td>\n",
       "      <td>0.959968</td>\n",
       "      <td>0.936378</td>\n",
       "      <td>0.941965</td>\n",
       "      <td>1.000000</td>\n",
       "      <td>0.951330</td>\n",
       "    </tr>\n",
       "    <tr>\n",
       "      <th>is_iceberg_9</th>\n",
       "      <td>0.862926</td>\n",
       "      <td>0.890434</td>\n",
       "      <td>0.902715</td>\n",
       "      <td>0.905973</td>\n",
       "      <td>0.951330</td>\n",
       "      <td>0.892922</td>\n",
       "      <td>0.871502</td>\n",
       "      <td>0.936248</td>\n",
       "      <td>0.951330</td>\n",
       "      <td>1.000000</td>\n",
       "    </tr>\n",
       "  </tbody>\n",
       "</table>\n",
       "</div>"
      ],
      "text/plain": [
       "              is_iceberg_0  is_iceberg_1  is_iceberg_2  is_iceberg_3  \\\n",
       "is_iceberg_0      1.000000      0.872093      0.964119      0.965293   \n",
       "is_iceberg_1      0.872093      1.000000      0.892673      0.892067   \n",
       "is_iceberg_2      0.964119      0.892673      1.000000      0.975933   \n",
       "is_iceberg_3      0.965293      0.892067      0.975933      1.000000   \n",
       "is_iceberg_4      0.942633      0.914140      0.956652      0.963686   \n",
       "is_iceberg_5      0.976467      0.884691      0.977570      0.987501   \n",
       "is_iceberg_6      0.976215      0.875416      0.967446      0.957484   \n",
       "is_iceberg_7      0.909198      0.914032      0.934716      0.930742   \n",
       "is_iceberg_8      0.942633      0.914140      0.956652      0.963686   \n",
       "is_iceberg_9      0.862926      0.890434      0.902715      0.905973   \n",
       "\n",
       "              is_iceberg_4  is_iceberg_5  is_iceberg_6  is_iceberg_7  \\\n",
       "is_iceberg_0      0.942633      0.976467      0.976215      0.909198   \n",
       "is_iceberg_1      0.914140      0.884691      0.875416      0.914032   \n",
       "is_iceberg_2      0.956652      0.977570      0.967446      0.934716   \n",
       "is_iceberg_3      0.963686      0.987501      0.957484      0.930742   \n",
       "is_iceberg_4      1.000000      0.959968      0.936378      0.941965   \n",
       "is_iceberg_5      0.959968      1.000000      0.960945      0.919837   \n",
       "is_iceberg_6      0.936378      0.960945      1.000000      0.919900   \n",
       "is_iceberg_7      0.941965      0.919837      0.919900      1.000000   \n",
       "is_iceberg_8      1.000000      0.959968      0.936378      0.941965   \n",
       "is_iceberg_9      0.951330      0.892922      0.871502      0.936248   \n",
       "\n",
       "              is_iceberg_8  is_iceberg_9  \n",
       "is_iceberg_0      0.942633      0.862926  \n",
       "is_iceberg_1      0.914140      0.890434  \n",
       "is_iceberg_2      0.956652      0.902715  \n",
       "is_iceberg_3      0.963686      0.905973  \n",
       "is_iceberg_4      1.000000      0.951330  \n",
       "is_iceberg_5      0.959968      0.892922  \n",
       "is_iceberg_6      0.936378      0.871502  \n",
       "is_iceberg_7      0.941965      0.936248  \n",
       "is_iceberg_8      1.000000      0.951330  \n",
       "is_iceberg_9      0.951330      1.000000  "
      ]
     },
     "execution_count": 4,
     "metadata": {},
     "output_type": "execute_result"
    }
   ],
   "source": [
    "# check correlation\n",
    "concat_sub.corr()"
   ]
  },
  {
   "cell_type": "code",
   "execution_count": 5,
   "metadata": {
    "_cell_guid": "c7be9be8-b999-42d9-a0cc-6bf2a035b25b",
    "_uuid": "07cdbb447c11008557c1773e464d08f798d8b2b2",
    "collapsed": true
   },
   "outputs": [],
   "source": [
    "# get the data fields ready for stacking\n",
    "concat_sub['is_iceberg_max'] = concat_sub.iloc[:, 1:6].max(axis=1)\n",
    "concat_sub['is_iceberg_min'] = concat_sub.iloc[:, 1:6].min(axis=1)\n",
    "concat_sub['is_iceberg_mean'] = concat_sub.iloc[:, 1:6].mean(axis=1)\n",
    "concat_sub['is_iceberg_median'] = concat_sub.iloc[:, 1:6].median(axis=1)"
   ]
  },
  {
   "cell_type": "code",
   "execution_count": 6,
   "metadata": {
    "_cell_guid": "2b115d55-48f4-43c6-9b22-dbd8cd5a28a8",
    "_uuid": "d412b01db3dd513eef9158bfaaebe96617e79d5b",
    "collapsed": true
   },
   "outputs": [],
   "source": [
    "# set up cutoff threshold for lower and upper bounds, easy to twist \n",
    "cutoff_lo = 0.8\n",
    "cutoff_hi = 0.2"
   ]
  },
  {
   "cell_type": "markdown",
   "metadata": {
    "_cell_guid": "d0493bc1-1d92-4bc7-aa84-107fcb6d7324",
    "_uuid": "698574b4531ce5ec1c59d5afaf451392169af5e0"
   },
   "source": [
    "# Mean Stacking"
   ]
  },
  {
   "cell_type": "code",
   "execution_count": 7,
   "metadata": {
    "_cell_guid": "f1169e63-b019-4a39-87b5-8fa1d0488f09",
    "_uuid": "a6642e2884dacc8c5095413e6a0945c6791ee1b5",
    "collapsed": true
   },
   "outputs": [],
   "source": [
    "concat_sub['is_iceberg'] = concat_sub['is_iceberg_mean']\n",
    "concat_sub[['id', 'is_iceberg']].to_csv('stack_mean.csv', index=False, float_format='%.6f')"
   ]
  },
  {
   "cell_type": "markdown",
   "metadata": {
    "_cell_guid": "103f2414-04a8-40bd-8ffc-4e77e510e023",
    "_uuid": "d213635b179fc8d07a6985d257c8c3e0007e0f7a"
   },
   "source": [
    "# Median Stacking"
   ]
  },
  {
   "cell_type": "code",
   "execution_count": 8,
   "metadata": {
    "_cell_guid": "9d5af2c0-1cc5-4adc-9153-d20d19c69bd6",
    "_uuid": "76fc5734615b45bf6234df1f450c9a24ca518834",
    "collapsed": true
   },
   "outputs": [],
   "source": [
    "concat_sub['is_iceberg'] = concat_sub['is_iceberg_median']\n",
    "concat_sub[['id', 'is_iceberg']].to_csv('stack_median.csv', index=False, float_format='%.6f')"
   ]
  },
  {
   "cell_type": "markdown",
   "metadata": {
    "_cell_guid": "fba2a588-19a4-41fd-a495-af6a3a551777",
    "_uuid": "caa0cb178c1f4921cb7c5b6552bfe4e0fb91475e"
   },
   "source": [
    "# PushOut + Median Stacking \n",
    "\n",
    "Pushout strategy is a bit agressive given what it does..."
   ]
  },
  {
   "cell_type": "code",
   "execution_count": 9,
   "metadata": {
    "_cell_guid": "f8646a39-f2cc-483a-912b-46af12b5de64",
    "_uuid": "e6038b30485244cf144ede75fb3ecab55afa3f84",
    "collapsed": true
   },
   "outputs": [],
   "source": [
    "concat_sub['is_iceberg'] = np.where(np.all(concat_sub.iloc[:,1:6] > cutoff_lo, axis=1), 1, \n",
    "                                    np.where(np.all(concat_sub.iloc[:,1:6] < cutoff_hi, axis=1),\n",
    "                                             0, concat_sub['is_iceberg_median']))\n",
    "concat_sub[['id', 'is_iceberg']].to_csv('stack_pushout_median.csv', index=False, float_format='%.6f')"
   ]
  },
  {
   "cell_type": "markdown",
   "metadata": {
    "_cell_guid": "26fa22e0-4f00-455b-8328-3e3cdf34adfb",
    "_uuid": "9244a9d9ddce162fa7ddd7d32e271097b0b405df"
   },
   "source": [
    "# MinMax + Mean Stacking\n",
    "\n",
    "MinMax seems more gentle and it outperforms the previous one given its peformance score."
   ]
  },
  {
   "cell_type": "code",
   "execution_count": 10,
   "metadata": {
    "_cell_guid": "7634aaa4-2466-45b1-afbf-32dedb8691a4",
    "_uuid": "4ffd0c65d59a03ee04d5452b853efac717f3f3f7",
    "collapsed": true
   },
   "outputs": [],
   "source": [
    "concat_sub['is_iceberg'] = np.where(np.all(concat_sub.iloc[:,1:6] > cutoff_lo, axis=1), \n",
    "                                    concat_sub['is_iceberg_max'], \n",
    "                                    np.where(np.all(concat_sub.iloc[:,1:6] < cutoff_hi, axis=1),\n",
    "                                             concat_sub['is_iceberg_min'], \n",
    "                                             concat_sub['is_iceberg_mean']))\n",
    "concat_sub[['id', 'is_iceberg']].to_csv('stack_minmax_mean.csv', \n",
    "                                        index=False, float_format='%.6f')"
   ]
  },
  {
   "cell_type": "markdown",
   "metadata": {
    "_cell_guid": "61831c59-a583-45d6-9bba-1102d1f80862",
    "_uuid": "95b5ccf95505b498dede6966f2a899c376d855dd"
   },
   "source": [
    "# MinMax + Median Stacking "
   ]
  },
  {
   "cell_type": "code",
   "execution_count": 11,
   "metadata": {
    "_cell_guid": "8aa75397-da75-4d93-916e-d88f464e13fe",
    "_uuid": "d4b7e91489d86452dc6d13340109e07da40f9fa9",
    "collapsed": true
   },
   "outputs": [],
   "source": [
    "concat_sub['is_iceberg'] = np.where(np.all(concat_sub.iloc[:,1:6] > cutoff_lo, axis=1), \n",
    "                                    concat_sub['is_iceberg_max'], \n",
    "                                    np.where(np.all(concat_sub.iloc[:,1:6] < cutoff_hi, axis=1),\n",
    "                                             concat_sub['is_iceberg_min'], \n",
    "                                             concat_sub['is_iceberg_median']))\n",
    "concat_sub[['id', 'is_iceberg']].to_csv('stack_minmax_median.csv', \n",
    "                                        index=False, float_format='%.6f')"
   ]
  },
  {
   "cell_type": "markdown",
   "metadata": {
    "_cell_guid": "307ebff0-d690-4dbf-8496-3fc8340bcc60",
    "_uuid": "935499734e508b98e7d694606bd2851a4b3cbce5"
   },
   "source": [
    "# MinMax + BestBase Stacking"
   ]
  },
  {
   "cell_type": "code",
   "execution_count": 13,
   "metadata": {
    "_cell_guid": "59f60095-f1ff-4c26-8d51-e0111e80f3ba",
    "_uuid": "8e3f2ac12368eac5fc2b69e9e899873dd33adef8"
   },
   "outputs": [],
   "source": [
    "# load the model with best base performance\n",
    "sub_base = pd.read_csv('./statoil-iceberg-submissions/VGG16_lee_0.1446.csv')"
   ]
  },
  {
   "cell_type": "code",
   "execution_count": 14,
   "metadata": {
    "_cell_guid": "2758287f-0e47-4dc6-ab11-004ce8812f8f",
    "_uuid": "2ac62e85fbafd2a9095e71d576633a65694787d8",
    "collapsed": true
   },
   "outputs": [],
   "source": [
    "concat_sub['is_iceberg_base'] = sub_base['is_iceberg']\n",
    "concat_sub['is_iceberg'] = np.where(np.all(concat_sub.iloc[:,1:6] > cutoff_lo, axis=1), \n",
    "                                    concat_sub['is_iceberg_max'], \n",
    "                                    np.where(np.all(concat_sub.iloc[:,1:6] < cutoff_hi, axis=1),\n",
    "                                             concat_sub['is_iceberg_min'], \n",
    "                                             concat_sub['is_iceberg_base']))\n",
    "concat_sub[['id', 'is_iceberg']].to_csv('stack_minmax_bestbase.csv', \n",
    "                                        index=False, float_format='%.6f')"
   ]
  },
  {
   "cell_type": "markdown",
   "metadata": {},
   "source": [
    "# MinMax + BestBase Stacking + Denoising"
   ]
  },
  {
   "cell_type": "code",
   "execution_count": 16,
   "metadata": {
    "collapsed": true
   },
   "outputs": [],
   "source": [
    "u = np.where(np.all(concat_sub.iloc[:,1:6] > cutoff_lo, axis=1), \n",
    "                                    concat_sub['is_iceberg_max'], \n",
    "                                    np.where(np.all(concat_sub.iloc[:,1:6] < cutoff_hi, axis=1),\n",
    "                                             concat_sub['is_iceberg_min'], \n",
    "                                             concat_sub['is_iceberg_base']))\n",
    "thres = 0.01\n",
    "for i in range(len(u)):\n",
    "    if u[i] < thres:\n",
    "        u[i] = 0\n",
    "    if u[i] > 1 - thres:\n",
    "        u[i] = 1\n",
    "concat_sub['is_iceberg'] = u\n",
    "concat_sub[['id', 'is_iceberg']].to_csv('denoise_%f.csv' % thres, index=False, float_format='%.6f')"
   ]
  },
  {
   "cell_type": "code",
   "execution_count": null,
   "metadata": {
    "collapsed": true
   },
   "outputs": [],
   "source": []
  }
 ],
 "metadata": {
  "kernelspec": {
   "display_name": "Python 3",
   "language": "python",
   "name": "python3"
  },
  "language_info": {
   "codemirror_mode": {
    "name": "ipython",
    "version": 3
   },
   "file_extension": ".py",
   "mimetype": "text/x-python",
   "name": "python",
   "nbconvert_exporter": "python",
   "pygments_lexer": "ipython3",
   "version": "3.6.3"
  }
 },
 "nbformat": 4,
 "nbformat_minor": 1
}
